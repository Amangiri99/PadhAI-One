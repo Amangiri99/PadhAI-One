{
  "nbformat": 4,
  "nbformat_minor": 0,
  "metadata": {
    "colab": {
      "name": "data_objects_Mappings.ipynb",
      "provenance": [],
      "collapsed_sections": [],
      "toc_visible": true
    },
    "kernelspec": {
      "name": "python3",
      "display_name": "Python 3"
    }
  },
  "cells": [
    {
      "cell_type": "markdown",
      "metadata": {
        "id": "M01rKlUI_KYo",
        "colab_type": "text"
      },
      "source": [
        "\n",
        "<img src=\"https://i.imgur.com/nTOFzVI.png\" alt=\"drawing\" width=\"400\"/>\n",
        "\n",
        "# by One Fourth Labs\n",
        "\n",
        "\n",
        "For more reading or to go indepth refer official reference of python language https://docs.python.org/3/reference/\n",
        "\n",
        "\n",
        ">**Also refer to the [Padhai-One](https://github.com/OneFourthLabs/PadhAI-One) Github repo for updates & other notebooks **"
      ]
    },
    {
      "cell_type": "markdown",
      "metadata": {
        "id": "BaPS5VydEkSq",
        "colab_type": "text"
      },
      "source": [
        "#**Dictionary**\n",
        "Dictionaries are **mutable data objects** that has mapping between the keys and values.\n",
        "Keys are similar to set elements that would be hashed and stored. Each key will a have a value (object) associated with it. Dictionary do not preserve ordering.\n",
        "\n",
        ">*Keys has to be immutable objects like int, float, string, tuple; whereas values can be any mutable or immutable object like even lists. This is because only keys are hashed, not values.*"
      ]
    },
    {
      "cell_type": "markdown",
      "metadata": {
        "id": "WK8zHy_cUhM9",
        "colab_type": "text"
      },
      "source": [
        "## Creating Dictionary\n",
        "\n"
      ]
    },
    {
      "cell_type": "markdown",
      "metadata": {
        "id": "kqhPBrVzbKx_",
        "colab_type": "text"
      },
      "source": [
        "List can be created in 2 ways\n",
        "1. using `{}`  curly brackets\n",
        "2. using `dict()` function, which takes any sequence type or iterable objects (like other list, tuple, set) whose **elements are objects with pair of elements**\n",
        "3. using  `fromkeys()` method for initializing dictionary\n",
        "\n",
        "A dictioanry element has two parts represented as `{key : value}`. Key and associated value should be seperated by `:`. <br>\n",
        "The Keys will/need_to be unique while values will/need not.\n"
      ]
    },
    {
      "cell_type": "code",
      "metadata": {
        "id": "otCZN4w8ERE8",
        "colab_type": "code",
        "outputId": "61b9e72b-d62b-49fa-ed2c-dedbf06beccd",
        "colab": {
          "base_uri": "https://localhost:8080/",
          "height": 105
        }
      },
      "source": [
        "# empty dictionary\n",
        "a = {}\n",
        "b = dict()\n",
        "\n",
        "# initalized dictionary\n",
        "c = {\"a\":1,\"b\":2, \"c\":3, \"d\":4}\n",
        "d = dict([ (1,\"a\"), (2,\"b\") ]) # create dict from sequence of paired elements\n",
        "e = c # shallow copy from a list\n",
        "\n",
        "# Print\n",
        "print(\"a = \",a, \"\\nb = \",b, \"\\nc = \",c, \"\\nd = \",d, \"\\ne = \",e )"
      ],
      "execution_count": 63,
      "outputs": [
        {
          "output_type": "stream",
          "text": [
            "a =  {} \n",
            "b =  {} \n",
            "c =  {'a': 1, 'b': 2, 'c': 3, 'd': 4} \n",
            "d =  {1: 'a', 2: 'b'} \n",
            "e =  {'a': 1, 'b': 2, 'c': 3, 'd': 4}\n"
          ],
          "name": "stdout"
        }
      ]
    },
    {
      "cell_type": "markdown",
      "metadata": {
        "id": "2rcWbvgbi_3U",
        "colab_type": "text"
      },
      "source": [
        "As one can see a list with elements made of tuple with element pairs is converted into Dictionary.\n",
        "\n",
        "For `dict()` function, it is required to have paired elements or else it will throw error. Check the below cases."
      ]
    },
    {
      "cell_type": "code",
      "metadata": {
        "id": "gVdQA3toLp3j",
        "colab_type": "code",
        "outputId": "ac0fce12-527e-4a22-a1b2-59f27790f962",
        "colab": {
          "base_uri": "https://localhost:8080/",
          "height": 88
        }
      },
      "source": [
        "a = [1,2,3,4]\n",
        "try:\n",
        "    out = dict(a) # throw error\n",
        "except Exception as error:\n",
        "    print(\"`a` convertion TypeError:\", error)\n",
        "\n",
        "b = (1,2)\n",
        "try:\n",
        "    out = dict(b) # throw error\n",
        "except Exception as error:\n",
        "    print(\"`b` convertion TypeError:\", error)\n",
        "\n",
        "c = {1,2,3}\n",
        "try:\n",
        "    out = dict(c) # throw error\n",
        "except Exception as error:\n",
        "    print(\"`c` convertion TypeError:\", error)\n",
        "\n",
        "d = \"hello World\"\n",
        "try:\n",
        "    out = dict(d) # throw error\n",
        "except Exception as error:\n",
        "    print(\"`d` convertion TypeError:\", error)\n"
      ],
      "execution_count": 64,
      "outputs": [
        {
          "output_type": "stream",
          "text": [
            "`a` convertion TypeError: cannot convert dictionary update sequence element #0 to a sequence\n",
            "`b` convertion TypeError: cannot convert dictionary update sequence element #0 to a sequence\n",
            "`c` convertion TypeError: cannot convert dictionary update sequence element #0 to a sequence\n",
            "`d` convertion TypeError: dictionary update sequence element #0 has length 1; 2 is required\n"
          ],
          "name": "stdout"
        }
      ]
    },
    {
      "cell_type": "markdown",
      "metadata": {
        "id": "rPOsQnMyM4Si",
        "colab_type": "text"
      },
      "source": [
        "It is mandatory for data sequences and sets to have elements as clubbed pairs of objects, that would form key and corresponding value in dictionary.\n",
        "\n",
        "The elements can be clubbed using data objects like list, tuple or set; Each nested object should have exactly two elements."
      ]
    },
    {
      "cell_type": "code",
      "metadata": {
        "id": "4-_2ODdoOlrA",
        "colab_type": "code",
        "outputId": "a0f4b71a-8e02-4dd6-89b0-7581cc510ad0",
        "colab": {
          "base_uri": "https://localhost:8080/",
          "height": 88
        }
      },
      "source": [
        "a = [[1,2], [2,3], [4,5]]\n",
        "b = dict(a)\n",
        "c = [{1,2}, [2,3], (4,5)]\n",
        "d = dict(c)\n",
        "e= [['hello','world'] ]\n",
        "f=dict(e)\n",
        "\n",
        "print(\"b =\", b)\n",
        "print(\"d =\", d)\n",
        "print(\"f =\", f)\n",
        "\n",
        "\n",
        "g = [ [1,2,3], [4,5,6] ]\n",
        "try :\n",
        "    h = dict(g) # this will throw error\n",
        "except Exception as error:\n",
        "    print(\"Error at g:\", error)\n",
        "\n"
      ],
      "execution_count": 65,
      "outputs": [
        {
          "output_type": "stream",
          "text": [
            "b = {1: 2, 2: 3, 4: 5}\n",
            "d = {1: 2, 2: 3, 4: 5}\n",
            "f = {'hello': 'world'}\n",
            "Error at g: dictionary update sequence element #0 has length 3; 2 is required\n"
          ],
          "name": "stdout"
        }
      ]
    },
    {
      "cell_type": "markdown",
      "metadata": {
        "id": "OiMxqItgDt8n",
        "colab_type": "text"
      },
      "source": [
        "---"
      ]
    },
    {
      "cell_type": "markdown",
      "metadata": {
        "id": "aaSvCgclACVi",
        "colab_type": "text"
      },
      "source": [
        "Dictionary keys will be hashed thus they must be immutable objects, where as values can be any mutable or immutable object"
      ]
    },
    {
      "cell_type": "code",
      "metadata": {
        "id": "rFIEhnXcjbdT",
        "colab_type": "code",
        "outputId": "68db8b43-ae76-40e1-b999-0cc8829eb8cf",
        "colab": {
          "base_uri": "https://localhost:8080/",
          "height": 90
        }
      },
      "source": [
        "a = {\n",
        "    (1,2): \"tuple key\",\n",
        "    \"test\": \"string key\",\n",
        "    frozenset((1,2)): \"Frozen set key\",\n",
        "    1:      \"int key\",\n",
        "    1.222:  \"float key\",\n",
        "    1+2j:   \"complex key\",\n",
        "} \n",
        "\n",
        "print(\"a =\", a)\n",
        "\n",
        "try:\n",
        "    b = { [1,2]: \"list key\" }\n",
        "except Exception as error:\n",
        "    print(\"Error at b:\", error)\n",
        "\n",
        "try:\n",
        "    c = { {1,2}: \"list key\" }\n",
        "except Exception as error:\n",
        "    print(\"Error at c:\", error)"
      ],
      "execution_count": 66,
      "outputs": [
        {
          "output_type": "stream",
          "text": [
            "a = {(1, 2): 'tuple key', 'test': 'string key', frozenset({1, 2}): 'Frozen set key', 1: 'int key', 1.222: 'float key', (1+2j): 'complex key'}\n",
            "Error at b: unhashable type: 'list'\n",
            "Error at c: unhashable type: 'set'\n"
          ],
          "name": "stdout"
        }
      ]
    },
    {
      "cell_type": "code",
      "metadata": {
        "id": "QP6dkuKfE7o9",
        "colab_type": "code",
        "outputId": "36349766-be43-4b4d-89ea-c21a9b8c0278",
        "colab": {
          "base_uri": "https://localhost:8080/",
          "height": 55
        }
      },
      "source": [
        "a = {\n",
        "    \"tuple\": (1,2),\n",
        "    \"string\": \"test\",\n",
        "    \"frozenset\": frozenset((1,2)),\n",
        "    \"int\": 1,\n",
        "    \"float\": 1.222,\n",
        "    \"complex number\": 1+2j,\n",
        "    \"list\": [1,2,3],\n",
        "    \"set\": {1,2,3},\n",
        "} \n",
        "\n",
        "print(\"a =\", a)\n"
      ],
      "execution_count": 67,
      "outputs": [
        {
          "output_type": "stream",
          "text": [
            "a = {'tuple': (1, 2), 'string': 'test', 'frozenset': frozenset({1, 2}), 'int': 1, 'float': 1.222, 'complex number': (1+2j), 'list': [1, 2, 3], 'set': {1, 2, 3}}\n"
          ],
          "name": "stdout"
        }
      ]
    },
    {
      "cell_type": "markdown",
      "metadata": {
        "id": "0waHWI_3IJNO",
        "colab_type": "text"
      },
      "source": [
        "As the keys of dictionaries are hashed there will not be duplicated keys in a dict. The value of key will be updated to the latest instance of key's value."
      ]
    },
    {
      "cell_type": "code",
      "metadata": {
        "id": "J4mMvqZaInlD",
        "colab_type": "code",
        "outputId": "2cbaac2d-145e-4950-ae1e-40aeee7d0891",
        "colab": {
          "base_uri": "https://localhost:8080/",
          "height": 35
        }
      },
      "source": [
        "z = {\n",
        "    \"a\": 1, \"b\": 1, \n",
        "    \"a\": 2, \"c\": 2,\n",
        "    \"a\": 3, \"d\": 3,\n",
        "}\n",
        "\n",
        "print(\"z =\", z)"
      ],
      "execution_count": 68,
      "outputs": [
        {
          "output_type": "stream",
          "text": [
            "z = {'a': 3, 'b': 1, 'c': 2, 'd': 3}\n"
          ],
          "name": "stdout"
        }
      ]
    },
    {
      "cell_type": "markdown",
      "metadata": {
        "id": "eRpmaYVxJW8W",
        "colab_type": "text"
      },
      "source": [
        "One can see that the last occurence of key `a`had value as `3` which is retained. \n",
        "Also one can see that both the value of `a` and `c` are same(`3`), thus values can have duplicate objects."
      ]
    },
    {
      "cell_type": "markdown",
      "metadata": {
        "id": "nJ7mqazbH-NV",
        "colab_type": "text"
      },
      "source": [
        "---"
      ]
    },
    {
      "cell_type": "markdown",
      "metadata": {
        "id": "Np4c1vR_GVvR",
        "colab_type": "text"
      },
      "source": [
        "There could be cases where one may need to have just the keys in dict and values would be created at a future point.\n",
        "\n",
        "But a dictionary key cannot exist without a value, in such cases one can initialize the value to `None`"
      ]
    },
    {
      "cell_type": "code",
      "metadata": {
        "id": "PRQ4uOL5Zmzo",
        "colab_type": "code",
        "outputId": "18e4e476-3776-4e63-89b3-4df531e67ca5",
        "colab": {
          "base_uri": "https://localhost:8080/",
          "height": 35
        }
      },
      "source": [
        "a = {\"a\": None, \"b\":None, \"c\": None}\n",
        "print(a)"
      ],
      "execution_count": 69,
      "outputs": [
        {
          "output_type": "stream",
          "text": [
            "{'a': None, 'b': None, 'c': None}\n"
          ],
          "name": "stdout"
        }
      ]
    },
    {
      "cell_type": "markdown",
      "metadata": {
        "id": "xwbspZATaHKc",
        "colab_type": "text"
      },
      "source": [
        "Or there could be case where we may want to initialize all the values tp some constant values or empty objects and would modify later point in code.\n",
        "\n",
        "This pattern is frequently used in may applications, so there is dedicated function in dictionary called `dict.fromkeys()`. <br>\n",
        "This two arguments, firstly a sequence data or set as argument and secondly optional value to which each keys will be initalized, if not given `None` will be taken as default. "
      ]
    },
    {
      "cell_type": "code",
      "metadata": {
        "id": "uuirsGnlaUSt",
        "colab_type": "code",
        "outputId": "8a484fee-72e8-43be-c8c4-d90c0b4ada2b",
        "colab": {
          "base_uri": "https://localhost:8080/",
          "height": 52
        }
      },
      "source": [
        "a = [1,2,3,4,5,6,7]\n",
        "b = dict.fromkeys(a) # values will be none\n",
        "print(\"b =\", b)\n",
        "\n",
        "c = [\"apple\", \"banana\", \"cucumber\" ]\n",
        "d = [1,2,3]\n",
        "e = dict.fromkeys(c,d)\n",
        "print(\"e =\", e)"
      ],
      "execution_count": 70,
      "outputs": [
        {
          "output_type": "stream",
          "text": [
            "b = {1: None, 2: None, 3: None, 4: None, 5: None, 6: None, 7: None}\n",
            "e = {'apple': [1, 2, 3], 'banana': [1, 2, 3], 'cucumber': [1, 2, 3]}\n"
          ],
          "name": "stdout"
        }
      ]
    },
    {
      "cell_type": "markdown",
      "metadata": {
        "id": "du7EPTmlfDEv",
        "colab_type": "text"
      },
      "source": [
        "> Note that function did not iterate over values argument instead it took entire list and made it as value for all the keys"
      ]
    },
    {
      "cell_type": "markdown",
      "metadata": {
        "id": "ePwsE3WW1q_t",
        "colab_type": "text"
      },
      "source": [
        "---\n",
        "<br><br>"
      ]
    },
    {
      "cell_type": "markdown",
      "metadata": {
        "id": "suMeeKl0JZcE",
        "colab_type": "text"
      },
      "source": [
        "## Accessing elements "
      ]
    },
    {
      "cell_type": "markdown",
      "metadata": {
        "id": "6i17hPIXLVEV",
        "colab_type": "text"
      },
      "source": [
        "Dictionary elements cannot be indexed like list or tuple with numbers.\n",
        "Each value has to be accessed using keys. This is because keys are stored based on hashing, not sequentially in memory.\n",
        "\n",
        "Subscripting with `[]` square bracket is used for accessing values, using keys for referencing."
      ]
    },
    {
      "cell_type": "code",
      "metadata": {
        "id": "BFr1GYxwLnnu",
        "colab_type": "code",
        "outputId": "91f75b1b-103b-4c4f-fc89-079eac04440a",
        "colab": {
          "base_uri": "https://localhost:8080/",
          "height": 70
        }
      },
      "source": [
        "z = {\"a\": 1, \"b\": 2, \"c\": 3, \"d\": 4}\n",
        "y = z[\"a\"]\n",
        "x = z [\"b\"]\n",
        "print(\"value at \\\"a\\\" :\", y)\n",
        "print(\"value at \\\"b\\\" :\", x)\n",
        "\n",
        "try:\n",
        "    w = z[1]\n",
        "except KeyError as error:\n",
        "    print(\"KeyError:\", error)"
      ],
      "execution_count": 71,
      "outputs": [
        {
          "output_type": "stream",
          "text": [
            "value at \"a\" : 1\n",
            "value at \"b\" : 2\n",
            "KeyError: 1\n"
          ],
          "name": "stdout"
        }
      ]
    },
    {
      "cell_type": "markdown",
      "metadata": {
        "id": "8fnBFFBYrbIi",
        "colab_type": "text"
      },
      "source": [
        "Referenced with `1` dict does not consider it as index instead takes it as key and looks at corresponding hashing, since it does not exist it throws KeyError."
      ]
    },
    {
      "cell_type": "markdown",
      "metadata": {
        "id": "pCw0RSl1R3pu",
        "colab_type": "text"
      },
      "source": [
        "When one tries to reference a key that is not present using `[]`, it will throw error. <br>\n",
        "For certain program logic, it might be useful to get value if present else silently move to next step. In such cases one could use `get()`.\n",
        "It will return value if key exists else will return `None`\n"
      ]
    },
    {
      "cell_type": "code",
      "metadata": {
        "id": "aajs1GVbS0nd",
        "colab_type": "code",
        "outputId": "7710dbb0-4f9d-40e0-85c0-a1e3a2089f4e",
        "colab": {
          "base_uri": "https://localhost:8080/",
          "height": 52
        }
      },
      "source": [
        "z = {\"a\": 1, \"b\": 2, \"c\": 3, \"d\": 4}\n",
        "\n",
        "try:\n",
        "    y = z[\"e\"]\n",
        "except KeyError as error:\n",
        "    print(\"KeyError:\" , error)\n",
        "\n",
        "y = z.get(\"e\")\n",
        "print('using get:', y)"
      ],
      "execution_count": 72,
      "outputs": [
        {
          "output_type": "stream",
          "text": [
            "KeyError: 'e'\n",
            "using get: None\n"
          ],
          "name": "stdout"
        }
      ]
    },
    {
      "cell_type": "markdown",
      "metadata": {
        "id": "wMHaLyE_O1e0",
        "colab_type": "text"
      },
      "source": [
        "---\n",
        "<br>"
      ]
    },
    {
      "cell_type": "markdown",
      "metadata": {
        "id": "VsDbjB-bOJzN",
        "colab_type": "text"
      },
      "source": [
        "One  can  use `in` statement to ckeck if a specific key is present in a dictionary or not.\n",
        "\n",
        "> Only membership of keys can be checked with `in`, one cannot use to check if a value exists in dict. "
      ]
    },
    {
      "cell_type": "code",
      "metadata": {
        "id": "KkJXi3dOO7Rp",
        "colab_type": "code",
        "outputId": "aaa26e01-2f73-4f34-ad35-0a7d6f12806b",
        "colab": {
          "base_uri": "https://localhost:8080/",
          "height": 70
        }
      },
      "source": [
        "a = {\"ant\": 1, \"bear\":2, \"cat\": 3, \"dog\": 4, \"elephant\": 5}\n",
        "a_dog = \"dog\" in a\n",
        "a_wolf = \"wolf\" in a\n",
        "a_1 = 1 in a\n",
        "\n",
        "print(\"is dog present:\", a_dog)\n",
        "print(\"is wolf present:\", a_wolf)\n",
        "print(\"is 1 present:\", a_1)\n",
        "\n"
      ],
      "execution_count": 73,
      "outputs": [
        {
          "output_type": "stream",
          "text": [
            "is dog present: True\n",
            "is wolf present: False\n",
            "is 1 present: False\n"
          ],
          "name": "stdout"
        }
      ]
    },
    {
      "cell_type": "markdown",
      "metadata": {
        "id": "jFG7aARpJxCT",
        "colab_type": "text"
      },
      "source": [
        "Iterating with `for` and `in` and accessing the dict elements for updating them can be done as shown below."
      ]
    },
    {
      "cell_type": "code",
      "metadata": {
        "id": "jCu9FDITJV3c",
        "colab_type": "code",
        "outputId": "1f721626-b45c-4880-b9ee-e1735cfced33",
        "colab": {
          "base_uri": "https://localhost:8080/",
          "height": 35
        }
      },
      "source": [
        "a = {\"ant\": 1, \"bear\":2, \"cat\": 3, \"dog\": 4, \"elephant\": 5}\n",
        "\n",
        "for i in a:\n",
        "    a[i] +=10\n",
        "\n",
        "print(\"updated a =\", a) "
      ],
      "execution_count": 74,
      "outputs": [
        {
          "output_type": "stream",
          "text": [
            "updated a = {'ant': 11, 'bear': 12, 'cat': 13, 'dog': 14, 'elephant': 15}\n"
          ],
          "name": "stdout"
        }
      ]
    },
    {
      "cell_type": "markdown",
      "metadata": {
        "id": "LQIrLpddgmPR",
        "colab_type": "text"
      },
      "source": [
        "### View Objects\n",
        "\n",
        "Refer [Docs](https://docs.python.org/3/library/stdtypes.html#dictionary-view-objects) for more details"
      ]
    },
    {
      "cell_type": "markdown",
      "metadata": {
        "id": "S4JqhUnJu34T",
        "colab_type": "text"
      },
      "source": [
        "*One could use `in` for checking if key exists. But what if one needs to check if a value exists in a dict?*\n",
        "\n",
        "A simple work around could be to use `values()` method. it returns all the values of a dictionary as a `dict_value` class which is view object (i.e gives view like a list).<br>\n",
        "One can use this with `in` to check if the value present in the object returned by `values()`"
      ]
    },
    {
      "cell_type": "code",
      "metadata": {
        "id": "wqCxB34Qv8fR",
        "colab_type": "code",
        "outputId": "a1f52274-07e7-430a-f4a3-f099b9974dcc",
        "colab": {
          "base_uri": "https://localhost:8080/",
          "height": 52
        }
      },
      "source": [
        "a = {\"ant\": 1, \"bear\":2, \"cat\": 3, \"dog\": 4, \"elephant\": 5}\n",
        "a_vals = a.values()\n",
        "\n",
        "a_1 = 1 in a_vals\n",
        "print(\"is 1 present:\", a_1)\n",
        "print(\"a_vals = \", a_vals)"
      ],
      "execution_count": 75,
      "outputs": [
        {
          "output_type": "stream",
          "text": [
            "is 1 present: True\n",
            "a_vals =  dict_values([1, 2, 3, 4, 5])\n"
          ],
          "name": "stdout"
        }
      ]
    },
    {
      "cell_type": "markdown",
      "metadata": {
        "id": "r0pbKgQzyGYZ",
        "colab_type": "text"
      },
      "source": [
        "Notice that though the object seems like list it is actually a dict_values object. The object is not subscriptable with index like list."
      ]
    },
    {
      "cell_type": "code",
      "metadata": {
        "id": "e9OAsG5-Ibwd",
        "colab_type": "code",
        "outputId": "80911ed8-347b-490e-c6d2-0499568114c0",
        "colab": {
          "base_uri": "https://localhost:8080/",
          "height": 35
        }
      },
      "source": [
        "a = {\"ant\": 1, \"bear\":2, \"cat\": 3, \"dog\": 4, \"elephant\": 5}\n",
        "a_vals = a.values()\n",
        "print(\"a_vals before = \", a_vals)"
      ],
      "execution_count": 76,
      "outputs": [
        {
          "output_type": "stream",
          "text": [
            "a_vals before =  dict_values([1, 2, 3, 4, 5])\n"
          ],
          "name": "stdout"
        }
      ]
    },
    {
      "cell_type": "markdown",
      "metadata": {
        "id": "VxgDlE8AI2ZV",
        "colab_type": "text"
      },
      "source": [
        "Similarly there is `keys()` method which will return `dict_keys` class which again is a view object."
      ]
    },
    {
      "cell_type": "code",
      "metadata": {
        "id": "ZW91q_rTJIQe",
        "colab_type": "code",
        "outputId": "2e7b0b71-a9f7-4705-df3a-51980bd34449",
        "colab": {
          "base_uri": "https://localhost:8080/",
          "height": 35
        }
      },
      "source": [
        "a = {\"ant\": 1, \"bear\":2, \"cat\": 3, \"dog\": 4, \"elephant\": 5}\n",
        "a_keys = a.keys()\n",
        "print(\"a_keys = \", a_keys)"
      ],
      "execution_count": 77,
      "outputs": [
        {
          "output_type": "stream",
          "text": [
            "a_keys =  dict_keys(['ant', 'bear', 'cat', 'dog', 'elephant'])\n"
          ],
          "name": "stdout"
        }
      ]
    },
    {
      "cell_type": "markdown",
      "metadata": {
        "id": "7chQk1fluDqX",
        "colab_type": "text"
      },
      "source": [
        "Previously we converted sequence type data with paired elements into a dictionary. We could also do the inverse, we could convert dictionary into `dict_items` view object, which equivalent to tuple pairs.\n",
        "\n",
        "For which we could use `items()` method which returns `dict_items` which again is a view object."
      ]
    },
    {
      "cell_type": "code",
      "metadata": {
        "id": "wHR1tNTguSYD",
        "colab_type": "code",
        "outputId": "c56fa48a-9bce-4e5c-9b97-643d5961db5a",
        "colab": {
          "base_uri": "https://localhost:8080/",
          "height": 35
        }
      },
      "source": [
        "a = {\"ant\": 1, \"bear\":2, \"cat\": 3, \"dog\": 4, \"elephant\": 5}\n",
        "a_items = a.items()\n",
        "print(\"a_keys = \", a_items)"
      ],
      "execution_count": 78,
      "outputs": [
        {
          "output_type": "stream",
          "text": [
            "a_keys =  dict_items([('ant', 1), ('bear', 2), ('cat', 3), ('dog', 4), ('elephant', 5)])\n"
          ],
          "name": "stdout"
        }
      ]
    },
    {
      "cell_type": "markdown",
      "metadata": {
        "id": "e80lPskghw87",
        "colab_type": "text"
      },
      "source": [
        "One Significance of having view object is any changes or updates to the dictionary object will reflect in view object. These objects are references to the actual dictionary.\n",
        "\n",
        "> In Python2 `values()` `items()` `keys()` methods returned seperate list object, that did not preservethe link. Only in Python3 this was changed to view object."
      ]
    },
    {
      "cell_type": "code",
      "metadata": {
        "id": "sjDvgUrVh_Z3",
        "colab_type": "code",
        "outputId": "2d17e6bf-8bbf-4ff1-d411-14295072b991",
        "colab": {
          "base_uri": "https://localhost:8080/",
          "height": 158
        }
      },
      "source": [
        "a = {\"ant\": 1, \"bear\":2, \"cat\": 3}\n",
        "a_vals = a.values()\n",
        "a_keys = a.keys()\n",
        "a_items = a.items()\n",
        "print(\"Before changing:\\n\", a_vals, \"\\n\", a_keys, \"\\n\", a_items)\n",
        "\n",
        "a[\"ant\"] = 10 # change value\n",
        "a[\"dog\"] = 40 # addd new element\n",
        "\n",
        "print(\"After changing:\\n\", a_vals, \"\\n\", a_keys, \"\\n\", a_items)"
      ],
      "execution_count": 79,
      "outputs": [
        {
          "output_type": "stream",
          "text": [
            "Before changing:\n",
            " dict_values([1, 2, 3]) \n",
            " dict_keys(['ant', 'bear', 'cat']) \n",
            " dict_items([('ant', 1), ('bear', 2), ('cat', 3)])\n",
            "After changing:\n",
            " dict_values([10, 2, 3, 40]) \n",
            " dict_keys(['ant', 'bear', 'cat', 'dog']) \n",
            " dict_items([('ant', 10), ('bear', 2), ('cat', 3), ('dog', 40)])\n"
          ],
          "name": "stdout"
        }
      ]
    },
    {
      "cell_type": "markdown",
      "metadata": {
        "id": "UIDTaBET2BPo",
        "colab_type": "text"
      },
      "source": [
        "`keys()`, `values()` and `items()` would useful in many cases involving complex operations with dictionary data. Limiting the usage to simple examples here.\n",
        "\n",
        ">One could convert these view objects into other data structures easily with creation functions like `list()`, `tuple()` and `set()` and use them further."
      ]
    },
    {
      "cell_type": "markdown",
      "metadata": {
        "id": "Irs5Geprol7p",
        "colab_type": "text"
      },
      "source": [
        "\n",
        "---\n",
        "<br>"
      ]
    },
    {
      "cell_type": "markdown",
      "metadata": {
        "id": "31P3t7Sea0Ac",
        "colab_type": "text"
      },
      "source": [
        "\n",
        "## Inserting elements\n",
        "\n",
        "Dictionary are **mutable** object, so one can add elements to existing object without creating new object."
      ]
    },
    {
      "cell_type": "markdown",
      "metadata": {
        "id": "TkeTGHZIbRKG",
        "colab_type": "text"
      },
      "source": [
        "For adding new element one can directly subscript the new key with `[]` and assign the corresponding values.\n",
        "\n",
        "\n"
      ]
    },
    {
      "cell_type": "code",
      "metadata": {
        "id": "koFt26U9ZvXd",
        "colab_type": "code",
        "outputId": "746aed73-d363-4a01-b06a-ddec85140feb",
        "colab": {
          "base_uri": "https://localhost:8080/",
          "height": 35
        }
      },
      "source": [
        "a = {\"ant\": 1, \"bear\":2, \"cat\": 3, \"dog\": 4, \"elephant\": 5}\n",
        "a[\"fox\"] = 6\n",
        "\n",
        "print('a=', a)"
      ],
      "execution_count": 80,
      "outputs": [
        {
          "output_type": "stream",
          "text": [
            "a= {'ant': 1, 'bear': 2, 'cat': 3, 'dog': 4, 'elephant': 5, 'fox': 6}\n"
          ],
          "name": "stdout"
        }
      ]
    },
    {
      "cell_type": "markdown",
      "metadata": {
        "id": "UDpPLWABBORp",
        "colab_type": "text"
      },
      "source": [
        "One alternative way would be to use `update()` to add new elements.\n",
        "\n",
        "Update takes a dictionary or sequences with paired elements. So this could be used for bulk updates as well.\n"
      ]
    },
    {
      "cell_type": "code",
      "metadata": {
        "id": "ugDzu5ZJeQcc",
        "colab_type": "code",
        "outputId": "5fd2621c-256c-47e0-edbc-bc3e11f81d20",
        "colab": {
          "base_uri": "https://localhost:8080/",
          "height": 35
        }
      },
      "source": [
        "a = {\"ant\": 1, \"bear\":2, \"cat\": 3}\n",
        "a.update({'dog': 4})\n",
        "a.update( [(\"dog\", 4), (\"elephant\", 5)] )\n",
        "print(a)"
      ],
      "execution_count": 81,
      "outputs": [
        {
          "output_type": "stream",
          "text": [
            "{'ant': 1, 'bear': 2, 'cat': 3, 'dog': 4, 'elephant': 5}\n"
          ],
          "name": "stdout"
        }
      ]
    },
    {
      "cell_type": "markdown",
      "metadata": {
        "id": "w-M_MpCWZH_O",
        "colab_type": "text"
      },
      "source": [
        "The keys of dictionar are unique, thus using subscript `[]` or `update()` on existing keys will change the values of the keys.\n",
        "\n",
        ">The subscripting `[]` will be faster for adding single element compared to `update()` method.<br>\n",
        "But `update()` will be and faster useful for bulk update with large number of elements compared to iterating.\n"
      ]
    },
    {
      "cell_type": "code",
      "metadata": {
        "id": "pdMUrEeoeEdY",
        "colab_type": "code",
        "outputId": "32ad9bfc-b4f1-4e6e-f063-d6c230104bb3",
        "colab": {
          "base_uri": "https://localhost:8080/",
          "height": 35
        }
      },
      "source": [
        "%%timeit -n1 -r10\n",
        "## Using Subscripting\n",
        "a = {}\n",
        "for i in range(100000):\n",
        "    a[\"apple\"] = 1"
      ],
      "execution_count": 82,
      "outputs": [
        {
          "output_type": "stream",
          "text": [
            "1 loop, best of 10: 4.71 ms per loop\n"
          ],
          "name": "stdout"
        }
      ]
    },
    {
      "cell_type": "code",
      "metadata": {
        "id": "X1wwHlIkbYsJ",
        "colab_type": "code",
        "outputId": "d922c911-e960-4d4e-9bba-7d17f76d8471",
        "colab": {
          "base_uri": "https://localhost:8080/",
          "height": 35
        }
      },
      "source": [
        "%%timeit -n1 -r10\n",
        "## Using update()\n",
        "a = {}\n",
        "for i in range(100000):\n",
        "    a.update({\"apple\": 1})"
      ],
      "execution_count": 83,
      "outputs": [
        {
          "output_type": "stream",
          "text": [
            "1 loop, best of 10: 18.2 ms per loop\n"
          ],
          "name": "stdout"
        }
      ]
    },
    {
      "cell_type": "markdown",
      "metadata": {
        "id": "p5aGD-PabqFD",
        "colab_type": "text"
      },
      "source": [
        "One can see that subscripting `[]` is faster for updating single element compare to `update()`.\n",
        "\n",
        "But when large umber of elements has to be updated `update()` will be more readable and faster. "
      ]
    },
    {
      "cell_type": "code",
      "metadata": {
        "id": "0pi7c4mPcf8F",
        "colab_type": "code",
        "outputId": "806793ca-82d0-4635-b945-cd554e187c72",
        "colab": {
          "base_uri": "https://localhost:8080/",
          "height": 72
        }
      },
      "source": [
        "# variables initalization\n",
        "a = {}\n",
        "b = [(i,i*100) for i in range(1000)] #list comprehension\n",
        "print('list = ',b)\n",
        "print('after converting to dict =', dict(b))"
      ],
      "execution_count": 84,
      "outputs": [
        {
          "output_type": "stream",
          "text": [
            "list =  [(0, 0), (1, 100), (2, 200), (3, 300), (4, 400), (5, 500), (6, 600), (7, 700), (8, 800), (9, 900), (10, 1000), (11, 1100), (12, 1200), (13, 1300), (14, 1400), (15, 1500), (16, 1600), (17, 1700), (18, 1800), (19, 1900), (20, 2000), (21, 2100), (22, 2200), (23, 2300), (24, 2400), (25, 2500), (26, 2600), (27, 2700), (28, 2800), (29, 2900), (30, 3000), (31, 3100), (32, 3200), (33, 3300), (34, 3400), (35, 3500), (36, 3600), (37, 3700), (38, 3800), (39, 3900), (40, 4000), (41, 4100), (42, 4200), (43, 4300), (44, 4400), (45, 4500), (46, 4600), (47, 4700), (48, 4800), (49, 4900), (50, 5000), (51, 5100), (52, 5200), (53, 5300), (54, 5400), (55, 5500), (56, 5600), (57, 5700), (58, 5800), (59, 5900), (60, 6000), (61, 6100), (62, 6200), (63, 6300), (64, 6400), (65, 6500), (66, 6600), (67, 6700), (68, 6800), (69, 6900), (70, 7000), (71, 7100), (72, 7200), (73, 7300), (74, 7400), (75, 7500), (76, 7600), (77, 7700), (78, 7800), (79, 7900), (80, 8000), (81, 8100), (82, 8200), (83, 8300), (84, 8400), (85, 8500), (86, 8600), (87, 8700), (88, 8800), (89, 8900), (90, 9000), (91, 9100), (92, 9200), (93, 9300), (94, 9400), (95, 9500), (96, 9600), (97, 9700), (98, 9800), (99, 9900), (100, 10000), (101, 10100), (102, 10200), (103, 10300), (104, 10400), (105, 10500), (106, 10600), (107, 10700), (108, 10800), (109, 10900), (110, 11000), (111, 11100), (112, 11200), (113, 11300), (114, 11400), (115, 11500), (116, 11600), (117, 11700), (118, 11800), (119, 11900), (120, 12000), (121, 12100), (122, 12200), (123, 12300), (124, 12400), (125, 12500), (126, 12600), (127, 12700), (128, 12800), (129, 12900), (130, 13000), (131, 13100), (132, 13200), (133, 13300), (134, 13400), (135, 13500), (136, 13600), (137, 13700), (138, 13800), (139, 13900), (140, 14000), (141, 14100), (142, 14200), (143, 14300), (144, 14400), (145, 14500), (146, 14600), (147, 14700), (148, 14800), (149, 14900), (150, 15000), (151, 15100), (152, 15200), (153, 15300), (154, 15400), (155, 15500), (156, 15600), (157, 15700), (158, 15800), (159, 15900), (160, 16000), (161, 16100), (162, 16200), (163, 16300), (164, 16400), (165, 16500), (166, 16600), (167, 16700), (168, 16800), (169, 16900), (170, 17000), (171, 17100), (172, 17200), (173, 17300), (174, 17400), (175, 17500), (176, 17600), (177, 17700), (178, 17800), (179, 17900), (180, 18000), (181, 18100), (182, 18200), (183, 18300), (184, 18400), (185, 18500), (186, 18600), (187, 18700), (188, 18800), (189, 18900), (190, 19000), (191, 19100), (192, 19200), (193, 19300), (194, 19400), (195, 19500), (196, 19600), (197, 19700), (198, 19800), (199, 19900), (200, 20000), (201, 20100), (202, 20200), (203, 20300), (204, 20400), (205, 20500), (206, 20600), (207, 20700), (208, 20800), (209, 20900), (210, 21000), (211, 21100), (212, 21200), (213, 21300), (214, 21400), (215, 21500), (216, 21600), (217, 21700), (218, 21800), (219, 21900), (220, 22000), (221, 22100), (222, 22200), (223, 22300), (224, 22400), (225, 22500), (226, 22600), (227, 22700), (228, 22800), (229, 22900), (230, 23000), (231, 23100), (232, 23200), (233, 23300), (234, 23400), (235, 23500), (236, 23600), (237, 23700), (238, 23800), (239, 23900), (240, 24000), (241, 24100), (242, 24200), (243, 24300), (244, 24400), (245, 24500), (246, 24600), (247, 24700), (248, 24800), (249, 24900), (250, 25000), (251, 25100), (252, 25200), (253, 25300), (254, 25400), (255, 25500), (256, 25600), (257, 25700), (258, 25800), (259, 25900), (260, 26000), (261, 26100), (262, 26200), (263, 26300), (264, 26400), (265, 26500), (266, 26600), (267, 26700), (268, 26800), (269, 26900), (270, 27000), (271, 27100), (272, 27200), (273, 27300), (274, 27400), (275, 27500), (276, 27600), (277, 27700), (278, 27800), (279, 27900), (280, 28000), (281, 28100), (282, 28200), (283, 28300), (284, 28400), (285, 28500), (286, 28600), (287, 28700), (288, 28800), (289, 28900), (290, 29000), (291, 29100), (292, 29200), (293, 29300), (294, 29400), (295, 29500), (296, 29600), (297, 29700), (298, 29800), (299, 29900), (300, 30000), (301, 30100), (302, 30200), (303, 30300), (304, 30400), (305, 30500), (306, 30600), (307, 30700), (308, 30800), (309, 30900), (310, 31000), (311, 31100), (312, 31200), (313, 31300), (314, 31400), (315, 31500), (316, 31600), (317, 31700), (318, 31800), (319, 31900), (320, 32000), (321, 32100), (322, 32200), (323, 32300), (324, 32400), (325, 32500), (326, 32600), (327, 32700), (328, 32800), (329, 32900), (330, 33000), (331, 33100), (332, 33200), (333, 33300), (334, 33400), (335, 33500), (336, 33600), (337, 33700), (338, 33800), (339, 33900), (340, 34000), (341, 34100), (342, 34200), (343, 34300), (344, 34400), (345, 34500), (346, 34600), (347, 34700), (348, 34800), (349, 34900), (350, 35000), (351, 35100), (352, 35200), (353, 35300), (354, 35400), (355, 35500), (356, 35600), (357, 35700), (358, 35800), (359, 35900), (360, 36000), (361, 36100), (362, 36200), (363, 36300), (364, 36400), (365, 36500), (366, 36600), (367, 36700), (368, 36800), (369, 36900), (370, 37000), (371, 37100), (372, 37200), (373, 37300), (374, 37400), (375, 37500), (376, 37600), (377, 37700), (378, 37800), (379, 37900), (380, 38000), (381, 38100), (382, 38200), (383, 38300), (384, 38400), (385, 38500), (386, 38600), (387, 38700), (388, 38800), (389, 38900), (390, 39000), (391, 39100), (392, 39200), (393, 39300), (394, 39400), (395, 39500), (396, 39600), (397, 39700), (398, 39800), (399, 39900), (400, 40000), (401, 40100), (402, 40200), (403, 40300), (404, 40400), (405, 40500), (406, 40600), (407, 40700), (408, 40800), (409, 40900), (410, 41000), (411, 41100), (412, 41200), (413, 41300), (414, 41400), (415, 41500), (416, 41600), (417, 41700), (418, 41800), (419, 41900), (420, 42000), (421, 42100), (422, 42200), (423, 42300), (424, 42400), (425, 42500), (426, 42600), (427, 42700), (428, 42800), (429, 42900), (430, 43000), (431, 43100), (432, 43200), (433, 43300), (434, 43400), (435, 43500), (436, 43600), (437, 43700), (438, 43800), (439, 43900), (440, 44000), (441, 44100), (442, 44200), (443, 44300), (444, 44400), (445, 44500), (446, 44600), (447, 44700), (448, 44800), (449, 44900), (450, 45000), (451, 45100), (452, 45200), (453, 45300), (454, 45400), (455, 45500), (456, 45600), (457, 45700), (458, 45800), (459, 45900), (460, 46000), (461, 46100), (462, 46200), (463, 46300), (464, 46400), (465, 46500), (466, 46600), (467, 46700), (468, 46800), (469, 46900), (470, 47000), (471, 47100), (472, 47200), (473, 47300), (474, 47400), (475, 47500), (476, 47600), (477, 47700), (478, 47800), (479, 47900), (480, 48000), (481, 48100), (482, 48200), (483, 48300), (484, 48400), (485, 48500), (486, 48600), (487, 48700), (488, 48800), (489, 48900), (490, 49000), (491, 49100), (492, 49200), (493, 49300), (494, 49400), (495, 49500), (496, 49600), (497, 49700), (498, 49800), (499, 49900), (500, 50000), (501, 50100), (502, 50200), (503, 50300), (504, 50400), (505, 50500), (506, 50600), (507, 50700), (508, 50800), (509, 50900), (510, 51000), (511, 51100), (512, 51200), (513, 51300), (514, 51400), (515, 51500), (516, 51600), (517, 51700), (518, 51800), (519, 51900), (520, 52000), (521, 52100), (522, 52200), (523, 52300), (524, 52400), (525, 52500), (526, 52600), (527, 52700), (528, 52800), (529, 52900), (530, 53000), (531, 53100), (532, 53200), (533, 53300), (534, 53400), (535, 53500), (536, 53600), (537, 53700), (538, 53800), (539, 53900), (540, 54000), (541, 54100), (542, 54200), (543, 54300), (544, 54400), (545, 54500), (546, 54600), (547, 54700), (548, 54800), (549, 54900), (550, 55000), (551, 55100), (552, 55200), (553, 55300), (554, 55400), (555, 55500), (556, 55600), (557, 55700), (558, 55800), (559, 55900), (560, 56000), (561, 56100), (562, 56200), (563, 56300), (564, 56400), (565, 56500), (566, 56600), (567, 56700), (568, 56800), (569, 56900), (570, 57000), (571, 57100), (572, 57200), (573, 57300), (574, 57400), (575, 57500), (576, 57600), (577, 57700), (578, 57800), (579, 57900), (580, 58000), (581, 58100), (582, 58200), (583, 58300), (584, 58400), (585, 58500), (586, 58600), (587, 58700), (588, 58800), (589, 58900), (590, 59000), (591, 59100), (592, 59200), (593, 59300), (594, 59400), (595, 59500), (596, 59600), (597, 59700), (598, 59800), (599, 59900), (600, 60000), (601, 60100), (602, 60200), (603, 60300), (604, 60400), (605, 60500), (606, 60600), (607, 60700), (608, 60800), (609, 60900), (610, 61000), (611, 61100), (612, 61200), (613, 61300), (614, 61400), (615, 61500), (616, 61600), (617, 61700), (618, 61800), (619, 61900), (620, 62000), (621, 62100), (622, 62200), (623, 62300), (624, 62400), (625, 62500), (626, 62600), (627, 62700), (628, 62800), (629, 62900), (630, 63000), (631, 63100), (632, 63200), (633, 63300), (634, 63400), (635, 63500), (636, 63600), (637, 63700), (638, 63800), (639, 63900), (640, 64000), (641, 64100), (642, 64200), (643, 64300), (644, 64400), (645, 64500), (646, 64600), (647, 64700), (648, 64800), (649, 64900), (650, 65000), (651, 65100), (652, 65200), (653, 65300), (654, 65400), (655, 65500), (656, 65600), (657, 65700), (658, 65800), (659, 65900), (660, 66000), (661, 66100), (662, 66200), (663, 66300), (664, 66400), (665, 66500), (666, 66600), (667, 66700), (668, 66800), (669, 66900), (670, 67000), (671, 67100), (672, 67200), (673, 67300), (674, 67400), (675, 67500), (676, 67600), (677, 67700), (678, 67800), (679, 67900), (680, 68000), (681, 68100), (682, 68200), (683, 68300), (684, 68400), (685, 68500), (686, 68600), (687, 68700), (688, 68800), (689, 68900), (690, 69000), (691, 69100), (692, 69200), (693, 69300), (694, 69400), (695, 69500), (696, 69600), (697, 69700), (698, 69800), (699, 69900), (700, 70000), (701, 70100), (702, 70200), (703, 70300), (704, 70400), (705, 70500), (706, 70600), (707, 70700), (708, 70800), (709, 70900), (710, 71000), (711, 71100), (712, 71200), (713, 71300), (714, 71400), (715, 71500), (716, 71600), (717, 71700), (718, 71800), (719, 71900), (720, 72000), (721, 72100), (722, 72200), (723, 72300), (724, 72400), (725, 72500), (726, 72600), (727, 72700), (728, 72800), (729, 72900), (730, 73000), (731, 73100), (732, 73200), (733, 73300), (734, 73400), (735, 73500), (736, 73600), (737, 73700), (738, 73800), (739, 73900), (740, 74000), (741, 74100), (742, 74200), (743, 74300), (744, 74400), (745, 74500), (746, 74600), (747, 74700), (748, 74800), (749, 74900), (750, 75000), (751, 75100), (752, 75200), (753, 75300), (754, 75400), (755, 75500), (756, 75600), (757, 75700), (758, 75800), (759, 75900), (760, 76000), (761, 76100), (762, 76200), (763, 76300), (764, 76400), (765, 76500), (766, 76600), (767, 76700), (768, 76800), (769, 76900), (770, 77000), (771, 77100), (772, 77200), (773, 77300), (774, 77400), (775, 77500), (776, 77600), (777, 77700), (778, 77800), (779, 77900), (780, 78000), (781, 78100), (782, 78200), (783, 78300), (784, 78400), (785, 78500), (786, 78600), (787, 78700), (788, 78800), (789, 78900), (790, 79000), (791, 79100), (792, 79200), (793, 79300), (794, 79400), (795, 79500), (796, 79600), (797, 79700), (798, 79800), (799, 79900), (800, 80000), (801, 80100), (802, 80200), (803, 80300), (804, 80400), (805, 80500), (806, 80600), (807, 80700), (808, 80800), (809, 80900), (810, 81000), (811, 81100), (812, 81200), (813, 81300), (814, 81400), (815, 81500), (816, 81600), (817, 81700), (818, 81800), (819, 81900), (820, 82000), (821, 82100), (822, 82200), (823, 82300), (824, 82400), (825, 82500), (826, 82600), (827, 82700), (828, 82800), (829, 82900), (830, 83000), (831, 83100), (832, 83200), (833, 83300), (834, 83400), (835, 83500), (836, 83600), (837, 83700), (838, 83800), (839, 83900), (840, 84000), (841, 84100), (842, 84200), (843, 84300), (844, 84400), (845, 84500), (846, 84600), (847, 84700), (848, 84800), (849, 84900), (850, 85000), (851, 85100), (852, 85200), (853, 85300), (854, 85400), (855, 85500), (856, 85600), (857, 85700), (858, 85800), (859, 85900), (860, 86000), (861, 86100), (862, 86200), (863, 86300), (864, 86400), (865, 86500), (866, 86600), (867, 86700), (868, 86800), (869, 86900), (870, 87000), (871, 87100), (872, 87200), (873, 87300), (874, 87400), (875, 87500), (876, 87600), (877, 87700), (878, 87800), (879, 87900), (880, 88000), (881, 88100), (882, 88200), (883, 88300), (884, 88400), (885, 88500), (886, 88600), (887, 88700), (888, 88800), (889, 88900), (890, 89000), (891, 89100), (892, 89200), (893, 89300), (894, 89400), (895, 89500), (896, 89600), (897, 89700), (898, 89800), (899, 89900), (900, 90000), (901, 90100), (902, 90200), (903, 90300), (904, 90400), (905, 90500), (906, 90600), (907, 90700), (908, 90800), (909, 90900), (910, 91000), (911, 91100), (912, 91200), (913, 91300), (914, 91400), (915, 91500), (916, 91600), (917, 91700), (918, 91800), (919, 91900), (920, 92000), (921, 92100), (922, 92200), (923, 92300), (924, 92400), (925, 92500), (926, 92600), (927, 92700), (928, 92800), (929, 92900), (930, 93000), (931, 93100), (932, 93200), (933, 93300), (934, 93400), (935, 93500), (936, 93600), (937, 93700), (938, 93800), (939, 93900), (940, 94000), (941, 94100), (942, 94200), (943, 94300), (944, 94400), (945, 94500), (946, 94600), (947, 94700), (948, 94800), (949, 94900), (950, 95000), (951, 95100), (952, 95200), (953, 95300), (954, 95400), (955, 95500), (956, 95600), (957, 95700), (958, 95800), (959, 95900), (960, 96000), (961, 96100), (962, 96200), (963, 96300), (964, 96400), (965, 96500), (966, 96600), (967, 96700), (968, 96800), (969, 96900), (970, 97000), (971, 97100), (972, 97200), (973, 97300), (974, 97400), (975, 97500), (976, 97600), (977, 97700), (978, 97800), (979, 97900), (980, 98000), (981, 98100), (982, 98200), (983, 98300), (984, 98400), (985, 98500), (986, 98600), (987, 98700), (988, 98800), (989, 98900), (990, 99000), (991, 99100), (992, 99200), (993, 99300), (994, 99400), (995, 99500), (996, 99600), (997, 99700), (998, 99800), (999, 99900)]\n",
            "after converting to dict = {0: 0, 1: 100, 2: 200, 3: 300, 4: 400, 5: 500, 6: 600, 7: 700, 8: 800, 9: 900, 10: 1000, 11: 1100, 12: 1200, 13: 1300, 14: 1400, 15: 1500, 16: 1600, 17: 1700, 18: 1800, 19: 1900, 20: 2000, 21: 2100, 22: 2200, 23: 2300, 24: 2400, 25: 2500, 26: 2600, 27: 2700, 28: 2800, 29: 2900, 30: 3000, 31: 3100, 32: 3200, 33: 3300, 34: 3400, 35: 3500, 36: 3600, 37: 3700, 38: 3800, 39: 3900, 40: 4000, 41: 4100, 42: 4200, 43: 4300, 44: 4400, 45: 4500, 46: 4600, 47: 4700, 48: 4800, 49: 4900, 50: 5000, 51: 5100, 52: 5200, 53: 5300, 54: 5400, 55: 5500, 56: 5600, 57: 5700, 58: 5800, 59: 5900, 60: 6000, 61: 6100, 62: 6200, 63: 6300, 64: 6400, 65: 6500, 66: 6600, 67: 6700, 68: 6800, 69: 6900, 70: 7000, 71: 7100, 72: 7200, 73: 7300, 74: 7400, 75: 7500, 76: 7600, 77: 7700, 78: 7800, 79: 7900, 80: 8000, 81: 8100, 82: 8200, 83: 8300, 84: 8400, 85: 8500, 86: 8600, 87: 8700, 88: 8800, 89: 8900, 90: 9000, 91: 9100, 92: 9200, 93: 9300, 94: 9400, 95: 9500, 96: 9600, 97: 9700, 98: 9800, 99: 9900, 100: 10000, 101: 10100, 102: 10200, 103: 10300, 104: 10400, 105: 10500, 106: 10600, 107: 10700, 108: 10800, 109: 10900, 110: 11000, 111: 11100, 112: 11200, 113: 11300, 114: 11400, 115: 11500, 116: 11600, 117: 11700, 118: 11800, 119: 11900, 120: 12000, 121: 12100, 122: 12200, 123: 12300, 124: 12400, 125: 12500, 126: 12600, 127: 12700, 128: 12800, 129: 12900, 130: 13000, 131: 13100, 132: 13200, 133: 13300, 134: 13400, 135: 13500, 136: 13600, 137: 13700, 138: 13800, 139: 13900, 140: 14000, 141: 14100, 142: 14200, 143: 14300, 144: 14400, 145: 14500, 146: 14600, 147: 14700, 148: 14800, 149: 14900, 150: 15000, 151: 15100, 152: 15200, 153: 15300, 154: 15400, 155: 15500, 156: 15600, 157: 15700, 158: 15800, 159: 15900, 160: 16000, 161: 16100, 162: 16200, 163: 16300, 164: 16400, 165: 16500, 166: 16600, 167: 16700, 168: 16800, 169: 16900, 170: 17000, 171: 17100, 172: 17200, 173: 17300, 174: 17400, 175: 17500, 176: 17600, 177: 17700, 178: 17800, 179: 17900, 180: 18000, 181: 18100, 182: 18200, 183: 18300, 184: 18400, 185: 18500, 186: 18600, 187: 18700, 188: 18800, 189: 18900, 190: 19000, 191: 19100, 192: 19200, 193: 19300, 194: 19400, 195: 19500, 196: 19600, 197: 19700, 198: 19800, 199: 19900, 200: 20000, 201: 20100, 202: 20200, 203: 20300, 204: 20400, 205: 20500, 206: 20600, 207: 20700, 208: 20800, 209: 20900, 210: 21000, 211: 21100, 212: 21200, 213: 21300, 214: 21400, 215: 21500, 216: 21600, 217: 21700, 218: 21800, 219: 21900, 220: 22000, 221: 22100, 222: 22200, 223: 22300, 224: 22400, 225: 22500, 226: 22600, 227: 22700, 228: 22800, 229: 22900, 230: 23000, 231: 23100, 232: 23200, 233: 23300, 234: 23400, 235: 23500, 236: 23600, 237: 23700, 238: 23800, 239: 23900, 240: 24000, 241: 24100, 242: 24200, 243: 24300, 244: 24400, 245: 24500, 246: 24600, 247: 24700, 248: 24800, 249: 24900, 250: 25000, 251: 25100, 252: 25200, 253: 25300, 254: 25400, 255: 25500, 256: 25600, 257: 25700, 258: 25800, 259: 25900, 260: 26000, 261: 26100, 262: 26200, 263: 26300, 264: 26400, 265: 26500, 266: 26600, 267: 26700, 268: 26800, 269: 26900, 270: 27000, 271: 27100, 272: 27200, 273: 27300, 274: 27400, 275: 27500, 276: 27600, 277: 27700, 278: 27800, 279: 27900, 280: 28000, 281: 28100, 282: 28200, 283: 28300, 284: 28400, 285: 28500, 286: 28600, 287: 28700, 288: 28800, 289: 28900, 290: 29000, 291: 29100, 292: 29200, 293: 29300, 294: 29400, 295: 29500, 296: 29600, 297: 29700, 298: 29800, 299: 29900, 300: 30000, 301: 30100, 302: 30200, 303: 30300, 304: 30400, 305: 30500, 306: 30600, 307: 30700, 308: 30800, 309: 30900, 310: 31000, 311: 31100, 312: 31200, 313: 31300, 314: 31400, 315: 31500, 316: 31600, 317: 31700, 318: 31800, 319: 31900, 320: 32000, 321: 32100, 322: 32200, 323: 32300, 324: 32400, 325: 32500, 326: 32600, 327: 32700, 328: 32800, 329: 32900, 330: 33000, 331: 33100, 332: 33200, 333: 33300, 334: 33400, 335: 33500, 336: 33600, 337: 33700, 338: 33800, 339: 33900, 340: 34000, 341: 34100, 342: 34200, 343: 34300, 344: 34400, 345: 34500, 346: 34600, 347: 34700, 348: 34800, 349: 34900, 350: 35000, 351: 35100, 352: 35200, 353: 35300, 354: 35400, 355: 35500, 356: 35600, 357: 35700, 358: 35800, 359: 35900, 360: 36000, 361: 36100, 362: 36200, 363: 36300, 364: 36400, 365: 36500, 366: 36600, 367: 36700, 368: 36800, 369: 36900, 370: 37000, 371: 37100, 372: 37200, 373: 37300, 374: 37400, 375: 37500, 376: 37600, 377: 37700, 378: 37800, 379: 37900, 380: 38000, 381: 38100, 382: 38200, 383: 38300, 384: 38400, 385: 38500, 386: 38600, 387: 38700, 388: 38800, 389: 38900, 390: 39000, 391: 39100, 392: 39200, 393: 39300, 394: 39400, 395: 39500, 396: 39600, 397: 39700, 398: 39800, 399: 39900, 400: 40000, 401: 40100, 402: 40200, 403: 40300, 404: 40400, 405: 40500, 406: 40600, 407: 40700, 408: 40800, 409: 40900, 410: 41000, 411: 41100, 412: 41200, 413: 41300, 414: 41400, 415: 41500, 416: 41600, 417: 41700, 418: 41800, 419: 41900, 420: 42000, 421: 42100, 422: 42200, 423: 42300, 424: 42400, 425: 42500, 426: 42600, 427: 42700, 428: 42800, 429: 42900, 430: 43000, 431: 43100, 432: 43200, 433: 43300, 434: 43400, 435: 43500, 436: 43600, 437: 43700, 438: 43800, 439: 43900, 440: 44000, 441: 44100, 442: 44200, 443: 44300, 444: 44400, 445: 44500, 446: 44600, 447: 44700, 448: 44800, 449: 44900, 450: 45000, 451: 45100, 452: 45200, 453: 45300, 454: 45400, 455: 45500, 456: 45600, 457: 45700, 458: 45800, 459: 45900, 460: 46000, 461: 46100, 462: 46200, 463: 46300, 464: 46400, 465: 46500, 466: 46600, 467: 46700, 468: 46800, 469: 46900, 470: 47000, 471: 47100, 472: 47200, 473: 47300, 474: 47400, 475: 47500, 476: 47600, 477: 47700, 478: 47800, 479: 47900, 480: 48000, 481: 48100, 482: 48200, 483: 48300, 484: 48400, 485: 48500, 486: 48600, 487: 48700, 488: 48800, 489: 48900, 490: 49000, 491: 49100, 492: 49200, 493: 49300, 494: 49400, 495: 49500, 496: 49600, 497: 49700, 498: 49800, 499: 49900, 500: 50000, 501: 50100, 502: 50200, 503: 50300, 504: 50400, 505: 50500, 506: 50600, 507: 50700, 508: 50800, 509: 50900, 510: 51000, 511: 51100, 512: 51200, 513: 51300, 514: 51400, 515: 51500, 516: 51600, 517: 51700, 518: 51800, 519: 51900, 520: 52000, 521: 52100, 522: 52200, 523: 52300, 524: 52400, 525: 52500, 526: 52600, 527: 52700, 528: 52800, 529: 52900, 530: 53000, 531: 53100, 532: 53200, 533: 53300, 534: 53400, 535: 53500, 536: 53600, 537: 53700, 538: 53800, 539: 53900, 540: 54000, 541: 54100, 542: 54200, 543: 54300, 544: 54400, 545: 54500, 546: 54600, 547: 54700, 548: 54800, 549: 54900, 550: 55000, 551: 55100, 552: 55200, 553: 55300, 554: 55400, 555: 55500, 556: 55600, 557: 55700, 558: 55800, 559: 55900, 560: 56000, 561: 56100, 562: 56200, 563: 56300, 564: 56400, 565: 56500, 566: 56600, 567: 56700, 568: 56800, 569: 56900, 570: 57000, 571: 57100, 572: 57200, 573: 57300, 574: 57400, 575: 57500, 576: 57600, 577: 57700, 578: 57800, 579: 57900, 580: 58000, 581: 58100, 582: 58200, 583: 58300, 584: 58400, 585: 58500, 586: 58600, 587: 58700, 588: 58800, 589: 58900, 590: 59000, 591: 59100, 592: 59200, 593: 59300, 594: 59400, 595: 59500, 596: 59600, 597: 59700, 598: 59800, 599: 59900, 600: 60000, 601: 60100, 602: 60200, 603: 60300, 604: 60400, 605: 60500, 606: 60600, 607: 60700, 608: 60800, 609: 60900, 610: 61000, 611: 61100, 612: 61200, 613: 61300, 614: 61400, 615: 61500, 616: 61600, 617: 61700, 618: 61800, 619: 61900, 620: 62000, 621: 62100, 622: 62200, 623: 62300, 624: 62400, 625: 62500, 626: 62600, 627: 62700, 628: 62800, 629: 62900, 630: 63000, 631: 63100, 632: 63200, 633: 63300, 634: 63400, 635: 63500, 636: 63600, 637: 63700, 638: 63800, 639: 63900, 640: 64000, 641: 64100, 642: 64200, 643: 64300, 644: 64400, 645: 64500, 646: 64600, 647: 64700, 648: 64800, 649: 64900, 650: 65000, 651: 65100, 652: 65200, 653: 65300, 654: 65400, 655: 65500, 656: 65600, 657: 65700, 658: 65800, 659: 65900, 660: 66000, 661: 66100, 662: 66200, 663: 66300, 664: 66400, 665: 66500, 666: 66600, 667: 66700, 668: 66800, 669: 66900, 670: 67000, 671: 67100, 672: 67200, 673: 67300, 674: 67400, 675: 67500, 676: 67600, 677: 67700, 678: 67800, 679: 67900, 680: 68000, 681: 68100, 682: 68200, 683: 68300, 684: 68400, 685: 68500, 686: 68600, 687: 68700, 688: 68800, 689: 68900, 690: 69000, 691: 69100, 692: 69200, 693: 69300, 694: 69400, 695: 69500, 696: 69600, 697: 69700, 698: 69800, 699: 69900, 700: 70000, 701: 70100, 702: 70200, 703: 70300, 704: 70400, 705: 70500, 706: 70600, 707: 70700, 708: 70800, 709: 70900, 710: 71000, 711: 71100, 712: 71200, 713: 71300, 714: 71400, 715: 71500, 716: 71600, 717: 71700, 718: 71800, 719: 71900, 720: 72000, 721: 72100, 722: 72200, 723: 72300, 724: 72400, 725: 72500, 726: 72600, 727: 72700, 728: 72800, 729: 72900, 730: 73000, 731: 73100, 732: 73200, 733: 73300, 734: 73400, 735: 73500, 736: 73600, 737: 73700, 738: 73800, 739: 73900, 740: 74000, 741: 74100, 742: 74200, 743: 74300, 744: 74400, 745: 74500, 746: 74600, 747: 74700, 748: 74800, 749: 74900, 750: 75000, 751: 75100, 752: 75200, 753: 75300, 754: 75400, 755: 75500, 756: 75600, 757: 75700, 758: 75800, 759: 75900, 760: 76000, 761: 76100, 762: 76200, 763: 76300, 764: 76400, 765: 76500, 766: 76600, 767: 76700, 768: 76800, 769: 76900, 770: 77000, 771: 77100, 772: 77200, 773: 77300, 774: 77400, 775: 77500, 776: 77600, 777: 77700, 778: 77800, 779: 77900, 780: 78000, 781: 78100, 782: 78200, 783: 78300, 784: 78400, 785: 78500, 786: 78600, 787: 78700, 788: 78800, 789: 78900, 790: 79000, 791: 79100, 792: 79200, 793: 79300, 794: 79400, 795: 79500, 796: 79600, 797: 79700, 798: 79800, 799: 79900, 800: 80000, 801: 80100, 802: 80200, 803: 80300, 804: 80400, 805: 80500, 806: 80600, 807: 80700, 808: 80800, 809: 80900, 810: 81000, 811: 81100, 812: 81200, 813: 81300, 814: 81400, 815: 81500, 816: 81600, 817: 81700, 818: 81800, 819: 81900, 820: 82000, 821: 82100, 822: 82200, 823: 82300, 824: 82400, 825: 82500, 826: 82600, 827: 82700, 828: 82800, 829: 82900, 830: 83000, 831: 83100, 832: 83200, 833: 83300, 834: 83400, 835: 83500, 836: 83600, 837: 83700, 838: 83800, 839: 83900, 840: 84000, 841: 84100, 842: 84200, 843: 84300, 844: 84400, 845: 84500, 846: 84600, 847: 84700, 848: 84800, 849: 84900, 850: 85000, 851: 85100, 852: 85200, 853: 85300, 854: 85400, 855: 85500, 856: 85600, 857: 85700, 858: 85800, 859: 85900, 860: 86000, 861: 86100, 862: 86200, 863: 86300, 864: 86400, 865: 86500, 866: 86600, 867: 86700, 868: 86800, 869: 86900, 870: 87000, 871: 87100, 872: 87200, 873: 87300, 874: 87400, 875: 87500, 876: 87600, 877: 87700, 878: 87800, 879: 87900, 880: 88000, 881: 88100, 882: 88200, 883: 88300, 884: 88400, 885: 88500, 886: 88600, 887: 88700, 888: 88800, 889: 88900, 890: 89000, 891: 89100, 892: 89200, 893: 89300, 894: 89400, 895: 89500, 896: 89600, 897: 89700, 898: 89800, 899: 89900, 900: 90000, 901: 90100, 902: 90200, 903: 90300, 904: 90400, 905: 90500, 906: 90600, 907: 90700, 908: 90800, 909: 90900, 910: 91000, 911: 91100, 912: 91200, 913: 91300, 914: 91400, 915: 91500, 916: 91600, 917: 91700, 918: 91800, 919: 91900, 920: 92000, 921: 92100, 922: 92200, 923: 92300, 924: 92400, 925: 92500, 926: 92600, 927: 92700, 928: 92800, 929: 92900, 930: 93000, 931: 93100, 932: 93200, 933: 93300, 934: 93400, 935: 93500, 936: 93600, 937: 93700, 938: 93800, 939: 93900, 940: 94000, 941: 94100, 942: 94200, 943: 94300, 944: 94400, 945: 94500, 946: 94600, 947: 94700, 948: 94800, 949: 94900, 950: 95000, 951: 95100, 952: 95200, 953: 95300, 954: 95400, 955: 95500, 956: 95600, 957: 95700, 958: 95800, 959: 95900, 960: 96000, 961: 96100, 962: 96200, 963: 96300, 964: 96400, 965: 96500, 966: 96600, 967: 96700, 968: 96800, 969: 96900, 970: 97000, 971: 97100, 972: 97200, 973: 97300, 974: 97400, 975: 97500, 976: 97600, 977: 97700, 978: 97800, 979: 97900, 980: 98000, 981: 98100, 982: 98200, 983: 98300, 984: 98400, 985: 98500, 986: 98600, 987: 98700, 988: 98800, 989: 98900, 990: 99000, 991: 99100, 992: 99200, 993: 99300, 994: 99400, 995: 99500, 996: 99600, 997: 99700, 998: 99800, 999: 99900}\n"
          ],
          "name": "stdout"
        }
      ]
    },
    {
      "cell_type": "code",
      "metadata": {
        "id": "NEMc_WvsboMB",
        "colab_type": "code",
        "outputId": "418a87eb-53a9-4368-e1b8-e0efda5932c8",
        "colab": {
          "base_uri": "https://localhost:8080/",
          "height": 35
        }
      },
      "source": [
        "%%timeit -n1 -r10\n",
        "## Using Subscripting\n",
        "for i in range(10000): #repeat 100k times \n",
        "    for (k, v) in b:\n",
        "        a[k] = v"
      ],
      "execution_count": 85,
      "outputs": [
        {
          "output_type": "stream",
          "text": [
            "1 loop, best of 10: 561 ms per loop\n"
          ],
          "name": "stdout"
        }
      ]
    },
    {
      "cell_type": "code",
      "metadata": {
        "id": "vsL8j4shd4R1",
        "colab_type": "code",
        "outputId": "b97fe960-1af5-4e1c-991e-3d3d6a9ccf9c",
        "colab": {
          "base_uri": "https://localhost:8080/",
          "height": 35
        }
      },
      "source": [
        "%%timeit -n1 -r10\n",
        "## Using Subscripting\n",
        "for i in range(10000): #repeat 100k times \n",
        "    a.update(b)    \n"
      ],
      "execution_count": 86,
      "outputs": [
        {
          "output_type": "stream",
          "text": [
            "1 loop, best of 10: 276 ms per loop\n"
          ],
          "name": "stdout"
        }
      ]
    },
    {
      "cell_type": "markdown",
      "metadata": {
        "id": "MydVt5vuwJf2",
        "colab_type": "text"
      },
      "source": [
        "It can be seen that `update()` is faster than iterating with subscripting `[]`.\n",
        "\n",
        "---\n",
        "<br>\n"
      ]
    },
    {
      "cell_type": "markdown",
      "metadata": {
        "id": "MUy3pd7C8sNr",
        "colab_type": "text"
      },
      "source": [
        "There is a `setdefault()` method referenced to a key, does 2 different things based on condition.\n",
        "- If key is present - returns the value of that key\n",
        "-if key is not present - creates a new element with the key and initalizes to value passed as argument and returns the value."
      ]
    },
    {
      "cell_type": "code",
      "metadata": {
        "id": "4Jj568GV9j_o",
        "colab_type": "code",
        "outputId": "84faa25e-6aab-4356-efe6-4f21063bfd5a",
        "colab": {
          "base_uri": "https://localhost:8080/",
          "height": 88
        }
      },
      "source": [
        "a = {\"ant\": 1, \"bear\":2, \"cat\": 3}\n",
        "\n",
        "n_val = a.setdefault('cat', 22)\n",
        "print(\"If value exists returned:\", n_val)\n",
        "print(\"a =\", a )\n",
        "\n",
        "n_val = a.setdefault('wolf', 22)\n",
        "print(\"If value does not exist returned:\", n_val)\n",
        "print(\"a =\", a )"
      ],
      "execution_count": 87,
      "outputs": [
        {
          "output_type": "stream",
          "text": [
            "If value exists returned: 3\n",
            "a = {'ant': 1, 'bear': 2, 'cat': 3}\n",
            "If value does not exist returned: 22\n",
            "a = {'ant': 1, 'bear': 2, 'cat': 3, 'wolf': 22}\n"
          ],
          "name": "stdout"
        }
      ]
    },
    {
      "cell_type": "markdown",
      "metadata": {
        "id": "17riJj8u8tuJ",
        "colab_type": "text"
      },
      "source": [
        "---\n",
        "<br>"
      ]
    },
    {
      "cell_type": "markdown",
      "metadata": {
        "id": "GILG2nuE6jxt",
        "colab_type": "text"
      },
      "source": [
        "## Deleting elements"
      ]
    },
    {
      "cell_type": "markdown",
      "metadata": {
        "id": "2i8uKobsHiZR",
        "colab_type": "text"
      },
      "source": [
        "If one wants to remove any element, one can use `pop()`."
      ]
    },
    {
      "cell_type": "code",
      "metadata": {
        "id": "aG-b7UJtFhio",
        "colab_type": "code",
        "outputId": "b44f5938-efb7-458d-fbb7-89a8a142ee04",
        "colab": {
          "base_uri": "https://localhost:8080/",
          "height": 35
        }
      },
      "source": [
        "a = {\"ant\": 1, \"bear\":2, \"cat\": 3, \"dog\": 4, \"elephant\": 5}\n",
        "a.pop(\"bear\")\n",
        "\n",
        "print(\"a =\", a)"
      ],
      "execution_count": 88,
      "outputs": [
        {
          "output_type": "stream",
          "text": [
            "a = {'ant': 1, 'cat': 3, 'dog': 4, 'elephant': 5}\n"
          ],
          "name": "stdout"
        }
      ]
    },
    {
      "cell_type": "markdown",
      "metadata": {
        "id": "bXs4QpK5zVZF",
        "colab_type": "text"
      },
      "source": [
        "There also exists `popitem()` which removes the item that got inserted last. One would recollect that dict doesn't preserve ordering, hence `popitem()` will be useful to remove elements in Last-In-First-Out basis from dict.\n",
        "\n",
        "> This behaviour of removing newly added elemt is from Python3.7, in older versions `popitem()` remove a random element from dict."
      ]
    },
    {
      "cell_type": "code",
      "metadata": {
        "id": "jR3EODBo0Fc7",
        "colab_type": "code",
        "outputId": "90ec2adb-ec2e-451b-e34f-e17846082f0a",
        "colab": {
          "base_uri": "https://localhost:8080/",
          "height": 70
        }
      },
      "source": [
        "a = {\"ant\": 1, \"bear\":2, \"cat\": 3, \"dog\": 4, \"elephant\": 5}\n",
        "print(\"Initial a =\", a)\n",
        "a.popitem()\n",
        "print(\"1st pop: a =\", a)\n",
        "a.popitem()\n",
        "print(\"2nd pop: a =\", a)"
      ],
      "execution_count": 89,
      "outputs": [
        {
          "output_type": "stream",
          "text": [
            "Initial a = {'ant': 1, 'bear': 2, 'cat': 3, 'dog': 4, 'elephant': 5}\n",
            "1st pop: a = {'ant': 1, 'bear': 2, 'cat': 3, 'dog': 4}\n",
            "2nd pop: a = {'ant': 1, 'bear': 2, 'cat': 3}\n"
          ],
          "name": "stdout"
        }
      ]
    },
    {
      "cell_type": "markdown",
      "metadata": {
        "id": "q9Tvslp30_sI",
        "colab_type": "text"
      },
      "source": [
        "Though initailized together, the elemets are created sequentially. Thus last entry is created at last, so `popitem()` removes it.\n",
        "\n",
        "When some new element is added it gets removed when `popitem()` is called."
      ]
    },
    {
      "cell_type": "code",
      "metadata": {
        "id": "9VbuOmGc1W1K",
        "colab_type": "code",
        "outputId": "173bfc93-8fd3-4448-a9ae-1e98be7d104c",
        "colab": {
          "base_uri": "https://localhost:8080/",
          "height": 88
        }
      },
      "source": [
        "a = {\"ant\": 1, \"bear\":2, \"cat\": 3}\n",
        "print(\"Initial a =\", a)\n",
        "a.popitem()\n",
        "print(\"1st pop: a =\", a)\n",
        "\n",
        "a.update({\"dog\": 4, \"elephant\": 5})\n",
        "print(\"New a =\", a)\n",
        "a.popitem()\n",
        "print(\"2nd pop: a =\", a)"
      ],
      "execution_count": 90,
      "outputs": [
        {
          "output_type": "stream",
          "text": [
            "Initial a = {'ant': 1, 'bear': 2, 'cat': 3}\n",
            "1st pop: a = {'ant': 1, 'bear': 2}\n",
            "New a = {'ant': 1, 'bear': 2, 'dog': 4, 'elephant': 5}\n",
            "2nd pop: a = {'ant': 1, 'bear': 2, 'dog': 4}\n"
          ],
          "name": "stdout"
        }
      ]
    },
    {
      "cell_type": "markdown",
      "metadata": {
        "id": "jQnfBvOqJnix",
        "colab_type": "text"
      },
      "source": [
        "---\n",
        "<br>\n"
      ]
    },
    {
      "cell_type": "markdown",
      "metadata": {
        "id": "_hb84PFLLE58",
        "colab_type": "text"
      },
      "source": [
        " One can use `del` to remove specific elements refereced by keys or to remove entire object.\n",
        "\n"
      ]
    },
    {
      "cell_type": "code",
      "metadata": {
        "id": "f4vfLKn_IRnT",
        "colab_type": "code",
        "outputId": "a5672f04-fb90-4f95-dd26-bdda34b92bf4",
        "colab": {
          "base_uri": "https://localhost:8080/",
          "height": 35
        }
      },
      "source": [
        "a = {\"ant\": 1, \"bear\":2, \"cat\": 3, \"dog\": 4, \"elephant\": 5}\n",
        "del a['ant'] \n",
        "print('After deletion: a =', a)"
      ],
      "execution_count": 91,
      "outputs": [
        {
          "output_type": "stream",
          "text": [
            "After deletion: a = {'bear': 2, 'cat': 3, 'dog': 4, 'elephant': 5}\n"
          ],
          "name": "stdout"
        }
      ]
    },
    {
      "cell_type": "markdown",
      "metadata": {
        "id": "VgDZmTh9xT5O",
        "colab_type": "text"
      },
      "source": [
        "When used for removing elements the existing object is modified. As one can see below that the object id remains the same."
      ]
    },
    {
      "cell_type": "code",
      "metadata": {
        "id": "n1Ew_yXX0hdm",
        "colab_type": "code",
        "outputId": "24134fa7-47f2-4417-e75a-aafa275cb1cc",
        "colab": {
          "base_uri": "https://localhost:8080/",
          "height": 70
        }
      },
      "source": [
        "a = {\"ant\": 1, \"bear\":2, \"cat\": 3, \"dog\": 4, \"elephant\": 5}\n",
        "print(\"Id of `a` before:\", id(a))\n",
        "del a[\"bear\"] # deletes elements from index 2 to 5 in the object.\n",
        "print('`a` after modification =', a)\n",
        "print(\"Id of `a` after:\", id(a))"
      ],
      "execution_count": 92,
      "outputs": [
        {
          "output_type": "stream",
          "text": [
            "Id of `a` before: 139631660785384\n",
            "`a` after modification = {'ant': 1, 'cat': 3, 'dog': 4, 'elephant': 5}\n",
            "Id of `a` after: 139631660785384\n"
          ],
          "name": "stdout"
        }
      ]
    },
    {
      "cell_type": "markdown",
      "metadata": {
        "id": "l0jp8FTh0h1q",
        "colab_type": "text"
      },
      "source": [
        "One can use `del` on the object as whole."
      ]
    },
    {
      "cell_type": "code",
      "metadata": {
        "id": "A0FsI3LvQ9CL",
        "colab_type": "code",
        "outputId": "509ec289-9ba8-4fc5-9c74-bf4c4a7ddea3",
        "colab": {
          "base_uri": "https://localhost:8080/",
          "height": 35
        }
      },
      "source": [
        "c = {\"ant\": 1, \"bear\":2, \"cat\": 3, \"dog\": 4, \"elephant\": 5}\n",
        "del c # reference to object is removed\n",
        "\n",
        "try: \n",
        "    print(c) #This will throw ERROR since c is not defined\n",
        "except NameError as error:\n",
        "    print(\"Error:\", error)"
      ],
      "execution_count": 93,
      "outputs": [
        {
          "output_type": "stream",
          "text": [
            "Error: name 'c' is not defined\n"
          ],
          "name": "stdout"
        }
      ]
    },
    {
      "cell_type": "markdown",
      "metadata": {
        "id": "mHxBQ_Fhx9cv",
        "colab_type": "text"
      },
      "source": [
        "When using `del` on the entire object, the object remains same and exists in memory. Only the reference between variable and object is broken and variable becomes undefined."
      ]
    },
    {
      "cell_type": "code",
      "metadata": {
        "id": "1fNU9iWxu4RU",
        "colab_type": "code",
        "outputId": "84d7413c-5e4e-4215-8fb0-f64a8248852e",
        "colab": {
          "base_uri": "https://localhost:8080/",
          "height": 70
        }
      },
      "source": [
        "d = {\"ant\": 1, \"bear\":2, \"cat\": 3, \"dog\": 4, \"elephant\": 5}\n",
        "print(\"Id of `d`:\", id(d))\n",
        "e = d\n",
        "del d # reference to object is removed\n",
        "\n",
        "print(\"Id of `e`:\", id(e))\n",
        "print(\"Object in e:\", e) # `e` still references the object"
      ],
      "execution_count": 94,
      "outputs": [
        {
          "output_type": "stream",
          "text": [
            "Id of `d`: 139631686149176\n",
            "Id of `e`: 139631686149176\n",
            "Object in e: {'ant': 1, 'bear': 2, 'cat': 3, 'dog': 4, 'elephant': 5}\n"
          ],
          "name": "stdout"
        }
      ]
    },
    {
      "cell_type": "markdown",
      "metadata": {
        "id": "n4gLt4hpvSWU",
        "colab_type": "text"
      },
      "source": [
        "---\n",
        "<br>"
      ]
    },
    {
      "cell_type": "markdown",
      "metadata": {
        "id": "KVLWifZgNRlO",
        "colab_type": "text"
      },
      "source": [
        "To remove all elements one can use `clear()` method, this will retain the old object and only remove the elements"
      ]
    },
    {
      "cell_type": "code",
      "metadata": {
        "id": "NrA3hRcrNKCe",
        "colab_type": "code",
        "outputId": "bc992df0-3486-4c13-c43e-c7721c635eb0",
        "colab": {
          "base_uri": "https://localhost:8080/",
          "height": 35
        }
      },
      "source": [
        "a = {\"ant\": 1, \"bear\":2, \"cat\": 3, \"dog\": 4, \"elephant\": 5}\n",
        "a.clear()\n",
        "print(\"a =\", a)"
      ],
      "execution_count": 95,
      "outputs": [
        {
          "output_type": "stream",
          "text": [
            "a = {}\n"
          ],
          "name": "stdout"
        }
      ]
    },
    {
      "cell_type": "markdown",
      "metadata": {
        "id": "LBC0pkW6NoFn",
        "colab_type": "text"
      },
      "source": [
        "> At this point a question might come to mind that why should we clear elements of a dict object and reuse the same object\n",
        "\n",
        "Check the below case where we link the object in variable `a` to another variable `b` by shallow copy. And we are changing the dict object in `a` by assigning a new dict.  "
      ]
    },
    {
      "cell_type": "code",
      "metadata": {
        "id": "nYdhLgi7NmKo",
        "colab_type": "code",
        "outputId": "34e4e336-662e-4985-89d3-3637f43b186a",
        "colab": {
          "base_uri": "https://localhost:8080/",
          "height": 123
        }
      },
      "source": [
        "a = {\"ant\": 1, \"bear\":2, \"cat\": 3, \"dog\": 4, \"elephant\": 5}\n",
        "b = a # a & b refers to same object\n",
        "print(\"before modifying a: \\na =\", a, \" id= \",id(a) )\n",
        "print(\"b =\", b, \" id= \",id(b))\n",
        "\n",
        "a = {\"Zebra\": 26} # a now point to new object\n",
        "print(\"after modifying a: \\na =\", \" id= \",id(a) )\n",
        "print(\"b =\", \" id= \",id(b))"
      ],
      "execution_count": 96,
      "outputs": [
        {
          "output_type": "stream",
          "text": [
            "before modifying a: \n",
            "a = {'ant': 1, 'bear': 2, 'cat': 3, 'dog': 4, 'elephant': 5}  id=  139631660765904\n",
            "b = {'ant': 1, 'bear': 2, 'cat': 3, 'dog': 4, 'elephant': 5}  id=  139631660765904\n",
            "after modifying a: \n",
            "a =  id=  139631660767200\n",
            "b =  id=  139631660765904\n"
          ],
          "name": "stdout"
        }
      ]
    },
    {
      "cell_type": "markdown",
      "metadata": {
        "id": "qRWNNok9QJZM",
        "colab_type": "text"
      },
      "source": [
        "The object initially `a` had, is not destroyed or modified, it still exists in memory and `b` still references the old object, which might not be desired in some case.\n",
        "\n",
        "Also the link between objects `a` and `b` i.e object referenced by `b` is no longer associated to `a`.The link is broken which could be bad in some case."
      ]
    },
    {
      "cell_type": "code",
      "metadata": {
        "id": "9AmyUmRpO273",
        "colab_type": "code",
        "outputId": "050e131e-644c-4f4e-fb9a-41a684f41242",
        "colab": {
          "base_uri": "https://localhost:8080/",
          "height": 123
        }
      },
      "source": [
        "a = {\"ant\": 1, \"bear\":2, \"cat\": 3, \"dog\": 4, \"elephant\": 5}\n",
        "b = a # a & b refers to same object\n",
        "\n",
        "print(\"Initially: \\na =\", a,\" id= \",id(a))\n",
        "print(\" b =\", b,\" id= \",id(b))\n",
        "\n",
        "a.clear()\n",
        "\n",
        "print(\"clearing a: \\na =\", a, \" id= \",id(a))\n",
        "print(\"b =\", b, \" id= \",id(b))\n"
      ],
      "execution_count": 97,
      "outputs": [
        {
          "output_type": "stream",
          "text": [
            "Initially: \n",
            "a = {'ant': 1, 'bear': 2, 'cat': 3, 'dog': 4, 'elephant': 5}  id=  139631660766120\n",
            " b = {'ant': 1, 'bear': 2, 'cat': 3, 'dog': 4, 'elephant': 5}  id=  139631660766120\n",
            "clearing a: \n",
            "a = {}  id=  139631660766120\n",
            "b = {}  id=  139631660766120\n"
          ],
          "name": "stdout"
        }
      ]
    },
    {
      "cell_type": "markdown",
      "metadata": {
        "id": "5Fmdx7VuDCtA",
        "colab_type": "text"
      },
      "source": [
        "---\n",
        "<br> <br>"
      ]
    },
    {
      "cell_type": "markdown",
      "metadata": {
        "id": "2Od5jd0zHUf1",
        "colab_type": "text"
      },
      "source": [
        "## Duplicating"
      ]
    },
    {
      "cell_type": "markdown",
      "metadata": {
        "id": "sZm_nyH0DFpp",
        "colab_type": "text"
      },
      "source": [
        "It may not be the case always to have same object in two different variables.\n",
        "\n",
        "Sometimes one may want to create a copy of a dictionary and do some modification independent of other. In such cases it is better create two different objects. For which one can use `copy()` which creates a deep copy of the object. <br>\n",
        "Alternatively, one can use `dict()` which is used to create new dict from sequence type object."
      ]
    },
    {
      "cell_type": "code",
      "metadata": {
        "id": "yM5GMm95Brcr",
        "colab_type": "code",
        "outputId": "5321d621-0df0-4113-dd28-2ca64c85b4b9",
        "colab": {
          "base_uri": "https://localhost:8080/",
          "height": 70
        }
      },
      "source": [
        "a = {\"ant\": 1, \"bear\":2, \"cat\": 3, \"dog\": 4, \"elephant\": 5}\n",
        "b = a.copy() # deep copy\n",
        "b.pop(\"ant\")\n",
        "\n",
        "c = dict(a)\n",
        "c.pop(\"cat\")\n",
        "\n",
        "print(\"a =\", a, \" id=\",id(a))\n",
        "print(\"b =\", b, \" id=\",id(b))\n",
        "print(\"b =\", c, \" id=\",id(c))"
      ],
      "execution_count": 98,
      "outputs": [
        {
          "output_type": "stream",
          "text": [
            "a = {'ant': 1, 'bear': 2, 'cat': 3, 'dog': 4, 'elephant': 5}  id= 139631660766912\n",
            "b = {'bear': 2, 'cat': 3, 'dog': 4, 'elephant': 5}  id= 139631687543760\n",
            "b = {'ant': 1, 'bear': 2, 'dog': 4, 'elephant': 5}  id= 139631687543904\n"
          ],
          "name": "stdout"
        }
      ]
    },
    {
      "cell_type": "markdown",
      "metadata": {
        "id": "f5JB4S92fjp1",
        "colab_type": "text"
      },
      "source": [
        "But one would wonder what could be the difference between `copy()` and `dict()`. <br>\n",
        "\n",
        "`dict()` function takes any iteratable data objects with paired elements, iterates through elements converts to dict type object.\n",
        "\n",
        "whereas `copy()` method directly creates a copy of dict object. This makes `copy()` method faster than `list()`  "
      ]
    },
    {
      "cell_type": "code",
      "metadata": {
        "id": "z9WcYeiufjTT",
        "colab_type": "code",
        "outputId": "4835723c-b792-422a-ba4d-13d44a27c454",
        "colab": {
          "base_uri": "https://localhost:8080/",
          "height": 35
        }
      },
      "source": [
        "%%timeit -n1 -r10\n",
        "a = {\"ant\": 1, \"bear\":2, \"cat\": 3, \"dog\": 4, \"elephant\": 5}\n",
        "for i in range(1000000):\n",
        "    b = a.copy"
      ],
      "execution_count": 99,
      "outputs": [
        {
          "output_type": "stream",
          "text": [
            "1 loop, best of 10: 49.6 ms per loop\n"
          ],
          "name": "stdout"
        }
      ]
    },
    {
      "cell_type": "code",
      "metadata": {
        "id": "IzAE-nqTfiY1",
        "colab_type": "code",
        "outputId": "010a5dd3-f6c3-4fb9-d20c-700cc7960437",
        "colab": {
          "base_uri": "https://localhost:8080/",
          "height": 35
        }
      },
      "source": [
        "%%timeit -n1 -r10\n",
        "a = {\"ant\": 1, \"bear\":2, \"cat\": 3, \"dog\": 4, \"elephant\": 5}\n",
        "for i in range(1000000):\n",
        "    b = dict(a)"
      ],
      "execution_count": 100,
      "outputs": [
        {
          "output_type": "stream",
          "text": [
            "1 loop, best of 10: 279 ms per loop\n"
          ],
          "name": "stdout"
        }
      ]
    },
    {
      "cell_type": "markdown",
      "metadata": {
        "id": "h-nAIRgyICFb",
        "colab_type": "text"
      },
      "source": [
        "---\n",
        "<br>"
      ]
    },
    {
      "cell_type": "markdown",
      "metadata": {
        "id": "PrpaAbfyHjCM",
        "colab_type": "text"
      },
      "source": [
        "## Other functionalities"
      ]
    },
    {
      "cell_type": "markdown",
      "metadata": {
        "id": "l72pzzvy_dRY",
        "colab_type": "text"
      },
      "source": [
        "One can find the total number of elements in a\n",
        "dict using `len()` function, which will return the number of elements (i.e) number of keys present in the dictionary\n",
        "\n"
      ]
    },
    {
      "cell_type": "code",
      "metadata": {
        "id": "CvTbrn7Y_--U",
        "colab_type": "code",
        "outputId": "e1bd3f70-78af-440e-dfd0-fa24e82d6800",
        "colab": {
          "base_uri": "https://localhost:8080/",
          "height": 52
        }
      },
      "source": [
        "a = {\"ant\": 1, \"bear\":2, \"cat\": 3, \"dog\": 4, \"elephant\": 5}\n",
        "b = { 1: {\"A\": 11, \"B\": 22}, \n",
        "      2: {\"C\": 11, \"D\": 22}   } #dict with dict objects\n",
        "\n",
        "print(\"Num of elements in a:\", len(a))\n",
        "print(\"Num of elements in b:\", len(b))"
      ],
      "execution_count": 101,
      "outputs": [
        {
          "output_type": "stream",
          "text": [
            "Num of elements in a: 5\n",
            "Num of elements in b: 2\n"
          ],
          "name": "stdout"
        }
      ]
    },
    {
      "cell_type": "markdown",
      "metadata": {
        "colab_type": "text",
        "id": "hX8LcB-k4pZz"
      },
      "source": [
        "It can be seen that for `b` it show 2, `len()` considers only objects it contains, does not take into account elements present in the object. So `b` has two dict elements which is returned.  "
      ]
    },
    {
      "cell_type": "markdown",
      "metadata": {
        "id": "IRTyHAqXD9tG",
        "colab_type": "text"
      },
      "source": [
        "\n",
        "---\n",
        "<br>"
      ]
    },
    {
      "cell_type": "markdown",
      "metadata": {
        "id": "Pxu5fKvBI7Ee",
        "colab_type": "text"
      },
      "source": [
        "There would be cases where one will be in need to find sum of all keys in a dict.<br>\n",
        "*It may not seem meaningful but there may come a necessacity*\n",
        "\n",
        "For which one can use `sum()` function"
      ]
    },
    {
      "cell_type": "code",
      "metadata": {
        "id": "HQcz1GzQJIeP",
        "colab_type": "code",
        "outputId": "cfcdfa8c-d0c7-49b4-c9d2-9de04a3628d0",
        "colab": {
          "base_uri": "https://localhost:8080/",
          "height": 35
        }
      },
      "source": [
        "b = { 1: \"mango\", 2: \"apple\"   } \n",
        "s = sum(b)\n",
        "print(\"sum is \", s)"
      ],
      "execution_count": 102,
      "outputs": [
        {
          "output_type": "stream",
          "text": [
            "sum is  3\n"
          ],
          "name": "stdout"
        }
      ]
    },
    {
      "cell_type": "markdown",
      "metadata": {
        "id": "w_wKFEP7JpTm",
        "colab_type": "text"
      },
      "source": [
        "But the keys has to have arithmetically summable object like float, int; else one will get error."
      ]
    },
    {
      "cell_type": "code",
      "metadata": {
        "id": "7d8Mqt7dKBd1",
        "colab_type": "code",
        "outputId": "ae68d87d-9728-4d2a-aa72-f2c22b7cdc65",
        "colab": {
          "base_uri": "https://localhost:8080/",
          "height": 52
        }
      },
      "source": [
        "a = {\"ant\": 1, \"bear\":2, \"cat\": 3, \"dog\": 4, \"elephant\": 5}\n",
        "try:\n",
        "    sum(a) # this will throw error\n",
        "except Exception as error:\n",
        "    print(\"Error in a:\", error)\n",
        "\n",
        "\n",
        "b = { (1,2,3): \"First\", (4,5,6):  \"Second\"  } #list object\n",
        "try:\n",
        "    sum(b) # this will throw error\n",
        "except Exception as error:\n",
        "    print(\"Error in b:\", error)"
      ],
      "execution_count": 103,
      "outputs": [
        {
          "output_type": "stream",
          "text": [
            "Error in a: unsupported operand type(s) for +: 'int' and 'str'\n",
            "Error in b: unsupported operand type(s) for +: 'int' and 'tuple'\n"
          ],
          "name": "stdout"
        }
      ]
    },
    {
      "cell_type": "markdown",
      "metadata": {
        "id": "O895Q03jLCsn",
        "colab_type": "text"
      },
      "source": [
        "\n",
        "---\n",
        "<br>"
      ]
    },
    {
      "cell_type": "markdown",
      "metadata": {
        "id": "LgNvOlC6E62z",
        "colab_type": "text"
      },
      "source": [
        "##Operators \n",
        "No arithmetic operators can be used with dictionary.\n",
        "\n"
      ]
    },
    {
      "cell_type": "markdown",
      "metadata": {
        "id": "YeX8OZUW_aR5",
        "colab_type": "text"
      },
      "source": [
        "---\n",
        "<br>"
      ]
    },
    {
      "cell_type": "markdown",
      "metadata": {
        "id": "AFh7I_NX5hOn",
        "colab_type": "text"
      },
      "source": [
        ">**Please refer to the [Padhai-One](https://github.com/OneFourthLabs/PadhAI-One) Github repo for updates & other notebooks **"
      ]
    }
  ]
}